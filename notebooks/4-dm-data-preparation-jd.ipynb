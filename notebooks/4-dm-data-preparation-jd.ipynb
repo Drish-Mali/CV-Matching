{
 "cells": [
  {
   "cell_type": "code",
   "execution_count": 12,
   "metadata": {},
   "outputs": [],
   "source": [
    "import os\n",
    "import re\n",
    "import pdfplumber\n",
    "import pandas as pd\n",
    "import numpy as np\n",
    "import openai\n",
    "import json\n",
    "from dotenv import load_dotenv\n",
    "import time\n",
    "from datasets import load_dataset\n",
    "from tqdm import tqdm"
   ]
  },
  {
   "cell_type": "code",
   "execution_count": 4,
   "metadata": {},
   "outputs": [
    {
     "name": "stderr",
     "output_type": "stream",
     "text": [
      "c:\\Users\\deepa\\Downloads\\cv matching\\venv\\Lib\\site-packages\\huggingface_hub\\file_download.py:140: UserWarning: `huggingface_hub` cache-system uses symlinks by default to efficiently store duplicated files but your machine does not support them in C:\\Users\\deepa\\.cache\\huggingface\\hub\\datasets--jacob-hugging-face--job-descriptions. Caching files will still work but in a degraded version that might require more space on your disk. This warning can be disabled by setting the `HF_HUB_DISABLE_SYMLINKS_WARNING` environment variable. For more details, see https://huggingface.co/docs/huggingface_hub/how-to-cache#limitations.\n",
      "To support symlinks on Windows, you either need to activate Developer Mode or to run Python as an administrator. In order to activate developer mode, see this article: https://docs.microsoft.com/en-us/windows/apps/get-started/enable-your-device-for-development\n",
      "  warnings.warn(message)\n",
      "Generating train split: 100%|██████████| 853/853 [00:00<00:00, 12009.55 examples/s]\n"
     ]
    },
    {
     "data": {
      "text/plain": [
       "Dataset({\n",
       "    features: ['company_name', 'job_description', 'position_title', 'description_length', 'model_response'],\n",
       "    num_rows: 853\n",
       "})"
      ]
     },
     "execution_count": 4,
     "metadata": {},
     "output_type": "execute_result"
    }
   ],
   "source": [
    "jd_data = load_dataset('jacob-hugging-face/job-descriptions', split=\"train\")\n",
    "jd_data"
   ]
  },
  {
   "cell_type": "code",
   "execution_count": 5,
   "metadata": {},
   "outputs": [
    {
     "data": {
      "text/html": [
       "<div>\n",
       "<style scoped>\n",
       "    .dataframe tbody tr th:only-of-type {\n",
       "        vertical-align: middle;\n",
       "    }\n",
       "\n",
       "    .dataframe tbody tr th {\n",
       "        vertical-align: top;\n",
       "    }\n",
       "\n",
       "    .dataframe thead th {\n",
       "        text-align: right;\n",
       "    }\n",
       "</style>\n",
       "<table border=\"1\" class=\"dataframe\">\n",
       "  <thead>\n",
       "    <tr style=\"text-align: right;\">\n",
       "      <th></th>\n",
       "      <th>company_name</th>\n",
       "      <th>job_description</th>\n",
       "      <th>position_title</th>\n",
       "      <th>description_length</th>\n",
       "      <th>model_response</th>\n",
       "    </tr>\n",
       "  </thead>\n",
       "  <tbody>\n",
       "    <tr>\n",
       "      <th>0</th>\n",
       "      <td>Google</td>\n",
       "      <td>minimum qualifications\\nbachelors degree or eq...</td>\n",
       "      <td>Sales Specialist</td>\n",
       "      <td>2727</td>\n",
       "      <td>{\\n  \"Core Responsibilities\": \"Responsible fo...</td>\n",
       "    </tr>\n",
       "    <tr>\n",
       "      <th>1</th>\n",
       "      <td>Apple</td>\n",
       "      <td>description\\nas an asc you will be highly infl...</td>\n",
       "      <td>Apple Solutions Consultant</td>\n",
       "      <td>828</td>\n",
       "      <td>{\\n  \"Core Responsibilities\": \"as an asc you ...</td>\n",
       "    </tr>\n",
       "    <tr>\n",
       "      <th>2</th>\n",
       "      <td>Netflix</td>\n",
       "      <td>its an amazing time to be joining netflix as w...</td>\n",
       "      <td>Licensing Coordinator - Consumer Products</td>\n",
       "      <td>3205</td>\n",
       "      <td>{\\n  \"Core Responsibilities\": \"Help drive bus...</td>\n",
       "    </tr>\n",
       "    <tr>\n",
       "      <th>3</th>\n",
       "      <td>Robert Half</td>\n",
       "      <td>description\\n\\nweb designers looking to expand...</td>\n",
       "      <td>Web Designer</td>\n",
       "      <td>2489</td>\n",
       "      <td>{\\n  \"Core Responsibilities\": \"Designing webs...</td>\n",
       "    </tr>\n",
       "    <tr>\n",
       "      <th>4</th>\n",
       "      <td>TrackFive</td>\n",
       "      <td>at trackfive weve got big goals were on a miss...</td>\n",
       "      <td>Web Developer</td>\n",
       "      <td>3167</td>\n",
       "      <td>{\\n  \"Core Responsibilities\": \"Build and layo...</td>\n",
       "    </tr>\n",
       "  </tbody>\n",
       "</table>\n",
       "</div>"
      ],
      "text/plain": [
       "  company_name                                    job_description  \\\n",
       "0       Google  minimum qualifications\\nbachelors degree or eq...   \n",
       "1        Apple  description\\nas an asc you will be highly infl...   \n",
       "2      Netflix  its an amazing time to be joining netflix as w...   \n",
       "3  Robert Half  description\\n\\nweb designers looking to expand...   \n",
       "4    TrackFive  at trackfive weve got big goals were on a miss...   \n",
       "\n",
       "                              position_title  description_length  \\\n",
       "0                           Sales Specialist                2727   \n",
       "1                 Apple Solutions Consultant                 828   \n",
       "2  Licensing Coordinator - Consumer Products                3205   \n",
       "3                               Web Designer                2489   \n",
       "4                              Web Developer                3167   \n",
       "\n",
       "                                      model_response  \n",
       "0   {\\n  \"Core Responsibilities\": \"Responsible fo...  \n",
       "1   {\\n  \"Core Responsibilities\": \"as an asc you ...  \n",
       "2   {\\n  \"Core Responsibilities\": \"Help drive bus...  \n",
       "3   {\\n  \"Core Responsibilities\": \"Designing webs...  \n",
       "4   {\\n  \"Core Responsibilities\": \"Build and layo...  "
      ]
     },
     "execution_count": 5,
     "metadata": {},
     "output_type": "execute_result"
    }
   ],
   "source": [
    "jd_df = pd.DataFrame(jd_data)\n",
    "jd_df.head()"
   ]
  },
  {
   "cell_type": "code",
   "execution_count": 6,
   "metadata": {},
   "outputs": [
    {
     "data": {
      "text/plain": [
       "(853, 5)"
      ]
     },
     "execution_count": 6,
     "metadata": {},
     "output_type": "execute_result"
    }
   ],
   "source": [
    "jd_df.shape"
   ]
  },
  {
   "cell_type": "code",
   "execution_count": 7,
   "metadata": {},
   "outputs": [
    {
     "data": {
      "text/plain": [
       "count      853.000000\n",
       "mean      3335.600234\n",
       "std       2094.794724\n",
       "min         14.000000\n",
       "25%       1961.000000\n",
       "50%       3078.000000\n",
       "75%       4404.000000\n",
       "max      23924.000000\n",
       "Name: description_length, dtype: float64"
      ]
     },
     "execution_count": 7,
     "metadata": {},
     "output_type": "execute_result"
    }
   ],
   "source": [
    "jd_df.description_length.describe()"
   ]
  },
  {
   "cell_type": "code",
   "execution_count": 8,
   "metadata": {},
   "outputs": [],
   "source": [
    "def process_with_chatgpt(text):\n",
    "    openai.api_key = os.getenv(\"OPENAI_API_KEY\")\n",
    "    \n",
    "    prompt = f\"\"\"\n",
    "    Convert the following job description into a JSON object with exactly three keys: \"work_experience\", \"education\", and \"skills\". Each key should have its corresponding information as a value. Ensure the response is strictly JSON with no comments or additional text outside the JSON object.\n",
    "    \n",
    "    Job description:\n",
    "    {text}\n",
    "    \"\"\"\n",
    "    client = openai.OpenAI(api_key=os.getenv(\"OPENAI_API_KEY\"))\n",
    "    response = client.chat.completions.create(\n",
    "        model=\"gpt-4\",\n",
    "        messages=[\n",
    "            {\"role\": \"system\", \"content\": \"You are a helpful assistant.\"},\n",
    "            {\"role\": \"user\", \"content\": prompt}\n",
    "        ]\n",
    "    )\n",
    "    result = response.choices[0].message.content\n",
    "    return result\n"
   ]
  },
  {
   "cell_type": "code",
   "execution_count": 9,
   "metadata": {},
   "outputs": [
    {
     "data": {
      "text/plain": [
       "'{\\n  \"work_experience\": \"Bachelors degree or equivalent practical experience; years of experience in SaaS or productivity tools business; experience managing enterprise accounts with sales cycles.  Years of experience building strategic business partnerships with enterprise customers; ability to work through and with a reseller ecosystem to scale the business; ability to plan, pitch, and execute a territory business strategy; ability to build relationships and to deliver results in a cross-functional/matrixed environment. Responsible for maintenance and expansion of Google Workspace business growth across the region with customers. Experience in establishing partnerships, increasing account and territory business growth, and constructing successful strategies at account and territory level.\",\\n  \"education\": \"Bachelor\\'s Degree or equivalent practical experience.\",\\n  \"skills\": \"Ability to identify cross-promoting and up-promoting opportunities within the existing account base. Excellent account management, written/verbal communication, strategic and analytical thinking skills. Ability to inspire leading companies, schools, and government agencies to work smarter with Google tools like Google Workspace, Search, and Chrome. Proficient in leveraging Google\\'s cutting-edge technology on the cleanest cloud in the industry. Ability to work directly with customers, coordinate internal resources, and construct successful strategies at account and territory level.\"\\n}'"
      ]
     },
     "execution_count": 9,
     "metadata": {},
     "output_type": "execute_result"
    }
   ],
   "source": [
    "process_with_chatgpt(jd_df['job_description'][0])"
   ]
  },
  {
   "cell_type": "code",
   "execution_count": 13,
   "metadata": {},
   "outputs": [
    {
     "name": "stderr",
     "output_type": "stream",
     "text": [
      "100%|██████████| 853/853 [3:28:21<00:00, 14.66s/it]    \n"
     ]
    }
   ],
   "source": [
    "tqdm.pandas()\n",
    "def extract_parts(row):\n",
    "    try:\n",
    "        result = process_with_chatgpt(row[\"job_description\"])\n",
    "        parsed_result = json.loads(result) \n",
    "        return pd.Series(parsed_result)  \n",
    "    except Exception as e:\n",
    "       \n",
    "        return pd.Series({\"work_experience\": None, \"education\": None, \"skills\": None})\n",
    "\n",
    "\n",
    "jd_df[[\"work_experience\", \"education\", \"skills\"]] = jd_df.progress_apply(extract_parts, axis=1)\n"
   ]
  },
  {
   "cell_type": "code",
   "execution_count": 14,
   "metadata": {},
   "outputs": [
    {
     "data": {
      "text/plain": [
       "company_name           0\n",
       "job_description        0\n",
       "position_title         0\n",
       "description_length     0\n",
       "model_response         0\n",
       "work_experience       61\n",
       "education             54\n",
       "skills                53\n",
       "dtype: int64"
      ]
     },
     "execution_count": 14,
     "metadata": {},
     "output_type": "execute_result"
    }
   ],
   "source": [
    "jd_df.isnull().sum()"
   ]
  },
  {
   "cell_type": "code",
   "execution_count": 15,
   "metadata": {},
   "outputs": [
    {
     "name": "stdout",
     "output_type": "stream",
     "text": [
      "Statistics for 'work_experience':\n",
      "count    853.000000\n",
      "mean      24.717468\n",
      "std       29.101952\n",
      "min        0.000000\n",
      "25%        6.000000\n",
      "50%       14.000000\n",
      "75%       33.000000\n",
      "max      277.000000\n",
      "Name: work_experience_word_count, dtype: float64\n",
      "\n",
      "\n",
      "Statistics for 'education':\n",
      "count    853.000000\n",
      "mean      60.144197\n",
      "std       41.920270\n",
      "min        0.000000\n",
      "25%       29.000000\n",
      "50%       55.000000\n",
      "75%       83.000000\n",
      "max      234.000000\n",
      "Name: education_word_count, dtype: float64\n",
      "\n",
      "\n",
      "Statistics for 'skills':\n",
      "count    853.000000\n",
      "mean     116.349355\n",
      "std       72.736000\n",
      "min        0.000000\n",
      "25%       71.000000\n",
      "50%      109.000000\n",
      "75%      154.000000\n",
      "max      591.000000\n",
      "Name: skills_word_count, dtype: float64\n",
      "\n",
      "\n"
     ]
    }
   ],
   "source": [
    "columns_to_analyze = [\"work_experience\", \"education\", \"skills\"]\n",
    "\n",
    "for col in columns_to_analyze:\n",
    "    # Count words in each entry\n",
    "    jd_df[col + '_word_count'] = jd_df[col].fillna('').apply(lambda x: len(str(x).split()))\n",
    "\n",
    "    # Display basic statistics\n",
    "    print(f\"Statistics for '{col}':\")\n",
    "    print(jd_df[col + '_word_count'].describe())\n",
    "    print(\"\\n\")\n"
   ]
  },
  {
   "cell_type": "code",
   "execution_count": 16,
   "metadata": {},
   "outputs": [
    {
     "name": "stdout",
     "output_type": "stream",
     "text": [
      "Total rows with at least one NaN value: 61\n"
     ]
    }
   ],
   "source": [
    "\n",
    "total_nan_rows = jd_df.isna().any(axis=1).sum()\n",
    "\n",
    "print(f\"Total rows with at least one NaN value: {total_nan_rows}\")\n"
   ]
  },
  {
   "cell_type": "code",
   "execution_count": 17,
   "metadata": {},
   "outputs": [],
   "source": [
    "jd_df.to_csv('../data/jd_data/jd.csv',index=False)"
   ]
  },
  {
   "cell_type": "code",
   "execution_count": null,
   "metadata": {},
   "outputs": [],
   "source": []
  }
 ],
 "metadata": {
  "kernelspec": {
   "display_name": "venv",
   "language": "python",
   "name": "python3"
  },
  "language_info": {
   "codemirror_mode": {
    "name": "ipython",
    "version": 3
   },
   "file_extension": ".py",
   "mimetype": "text/x-python",
   "name": "python",
   "nbconvert_exporter": "python",
   "pygments_lexer": "ipython3",
   "version": "3.11.4"
  }
 },
 "nbformat": 4,
 "nbformat_minor": 2
}
